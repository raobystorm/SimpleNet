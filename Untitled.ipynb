{
 "cells": [
  {
   "cell_type": "code",
   "execution_count": 1,
   "metadata": {},
   "outputs": [],
   "source": [
    "from SimpleNet import *"
   ]
  },
  {
   "cell_type": "code",
   "execution_count": 2,
   "metadata": {},
   "outputs": [],
   "source": [
    "net = Network([4, 3])"
   ]
  },
  {
   "cell_type": "code",
   "execution_count": 4,
   "metadata": {},
   "outputs": [
    {
     "name": "stdout",
     "output_type": "stream",
     "text": [
      "Finished training! Start testing...\n",
      "Finished testing! The result accuracy is: 1.0\n",
      "<SimpleNet.SoftmaxLayer object at 0x00000275CDFB2B38>\n",
      "[[  5.2580994    2.45124788  -7.41693554]\n",
      " [  9.41489542   6.5845609  -15.79688952]\n",
      " [-12.83855031  -5.34396624  17.53287769]\n",
      " [ -5.48911997  -0.91988195   9.23419545]]\n"
     ]
    }
   ],
   "source": [
    "net.evaluate(\"C:\\SimpleNet\\Iris.data\")"
   ]
  },
  {
   "cell_type": "code",
   "execution_count": null,
   "metadata": {},
   "outputs": [],
   "source": []
  }
 ],
 "metadata": {
  "kernelspec": {
   "display_name": "Python 3",
   "language": "python",
   "name": "python3"
  },
  "language_info": {
   "codemirror_mode": {
    "name": "ipython",
    "version": 3
   },
   "file_extension": ".py",
   "mimetype": "text/x-python",
   "name": "python",
   "nbconvert_exporter": "python",
   "pygments_lexer": "ipython3",
   "version": "3.6.5"
  }
 },
 "nbformat": 4,
 "nbformat_minor": 2
}
